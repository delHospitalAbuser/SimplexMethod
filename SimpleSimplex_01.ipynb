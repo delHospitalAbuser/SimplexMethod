{
 "cells": [
  {
   "cell_type": "markdown",
   "metadata": {},
   "source": [
    "# Implementation of simple simplex algorithm:"
   ]
  },
  {
   "cell_type": "code",
   "execution_count": 4,
   "metadata": {},
   "outputs": [],
   "source": [
    "#A function that returns a simplex array. It takes an object of matrix type and returns the same.\n",
    "\n",
    "def simplex_table(m):\n",
    "    base_values = []\n",
    "    for i in range(m.ncols()-1):\n",
    "        if sum(map(abs, vector(m[2:,0:m.ncols()-1][:,i]))) == 1 and max(vector(m[2:,0:m.ncols()-1][:,i])) == 1:\n",
    "            base_values.append(m[1,i])\n",
    "    \n",
    "    reduced_cost = []\n",
    "    for i in range(m.ncols()):\n",
    "        val = vector(base_values).dot_product(vector(m[2:,i])) + (-1)*m[1,i]\n",
    "        reduced_cost.append(val)\n",
    "        \n",
    "    m = m.rows()\n",
    "    m.append(reduced_cost)\n",
    "    return(matrix(m))\n",
    "\n",
    "#The function that calculates the central element of the matrix, returns its positions in the array.\n",
    "\n",
    "def get_point(m):\n",
    "    row = list(m.row(m.nrows()-1))\n",
    "    max_value = max(row)\n",
    "    index_col = row.index(max_value)\n",
    "    val1 = m[2:,index_col].transpose()\n",
    "    val2 = m[2:,m.ncols()-1].transpose()\n",
    "    values = []\n",
    "    \n",
    "    for i in range(val1.ncols()-1):\n",
    "        if val1[0,i] > 0:\n",
    "            values.append(val2[0,i]/val1[0,i])\n",
    "        else:\n",
    "            values.append(-1)\n",
    "    \n",
    "    min_value = min([i for i in values if i > 0])\n",
    "    index_row = values.index(min_value)\n",
    "    get_index = [index_row + 2, index_col]\n",
    "    \n",
    "    return get_index\n",
    "\n",
    "#A function that transforms a matrix with respect to a given point using the Gaussian method. It takes matrix-like object\n",
    "#and point indices. \n",
    "\n",
    "def Gauss(A,i,j):\n",
    "    A[i]=A[i]/A[i,j]\n",
    "    for k in range(2,A.nrows()):\n",
    "        if k!=i:\n",
    "            A[k]=A[k]-A[k,j]*A[i]\n",
    "    return A\n",
    "\n",
    "#Function that reads the value of the function and the vertices of the points from the matrix with negative reduced costs.\n",
    "#It takes matrix object and returns list of strings.\n",
    "\n",
    "def results(m, opt):\n",
    "    txt = []\n",
    "    values_column = vector(m[2:m.nrows()-1,m.ncols()-1].transpose())\n",
    "\n",
    "    for i in range(m.ncols()-1):\n",
    "        if m[m.nrows()-1, i] == 0:\n",
    "            txt.append(f'{m[0,i]} = {vector(m[2:m.nrows()-1,i].transpose()).dot_product(values_column)}')\n",
    "        else: \n",
    "            txt.append(f'{m[0,i]} = 0')\n",
    "    if opt == \"min\":\n",
    "        txt.append(f'Min value of function is equal to:  {m[m.nrows()-1, m.ncols()-1]}')\n",
    "    if opt == \"max\":\n",
    "        txt.append(f'Max value of function is equal to:  {m[m.nrows()-1, m.ncols()-1] * (-1)}')\n",
    "    return txt\n",
    "\n",
    "#Function that implements the algorithm. It takes matrix object and returns list of strings. \n",
    "\n",
    "def simplex(m, opt):\n",
    "    \n",
    "    simplex_matrix = simplex_table(m) #create a simplex table \n",
    "    \n",
    "    while max(list(vector(simplex_matrix[simplex_matrix.nrows()-1,:]))) != 0: #loop works until the last row in matrix contains non positive values\n",
    "        point = get_point(simplex_matrix) #finding a center point\n",
    "        simplex_matrix = Gauss(simplex_matrix, point[0], point[1]) #Gaussian transformation with respect to the found point\n",
    "        \n",
    "    return results(simplex_matrix, opt) #returns answer "
   ]
  },
  {
   "cell_type": "markdown",
   "metadata": {},
   "source": [
    "Maximize function $f=x+y+z$ with constraints:\n",
    "\n",
    "$$\\left\\{\\begin{array}{l}\n",
    "   x-y-2z\\leq 5\\\\\n",
    "   x+2y-3z\\leq 3\\\\\n",
    "   x+2y+6z\\leq 5\\\\\n",
    "   2x+y-5z\\leq 8\\\\\n",
    "   x,y,z\\geq 0\\ .\n",
    "  \\end{array}\\right.$$"
   ]
  },
  {
   "cell_type": "markdown",
   "metadata": {},
   "source": [
    "Define the matrix, we turn inequalities into equalities by adding some a,b,c,d to equations:"
   ]
  },
  {
   "cell_type": "code",
   "execution_count": 2,
   "metadata": {},
   "outputs": [
    {
     "data": {
      "text/html": [
       "<html><script type=\"math/tex; mode=display\">\\newcommand{\\Bold}[1]{\\mathbf{#1}}\\left(\\begin{array}{rrrrrrrr}\n",
       "a & b & c & d & x & y & z & f \\\\\n",
       "0 & 0 & 0 & 0 & -1 & -1 & -1 & 0 \\\\\n",
       "1 & 0 & 0 & 0 & 1 & -1 & -2 & 5 \\\\\n",
       "0 & 1 & 0 & 0 & 1 & 2 & -3 & 3 \\\\\n",
       "0 & 0 & 1 & 0 & 1 & 2 & 6 & 5 \\\\\n",
       "0 & 0 & 0 & 1 & 2 & 1 & -5 & 8\n",
       "\\end{array}\\right)</script></html>"
      ],
      "text/latex": [
       "$$\\newcommand{\\Bold}[1]{\\mathbf{#1}}\\left(\\begin{array}{rrrrrrrr}\n",
       "a & b & c & d & x & y & z & f \\\\\n",
       "0 & 0 & 0 & 0 & -1 & -1 & -1 & 0 \\\\\n",
       "1 & 0 & 0 & 0 & 1 & -1 & -2 & 5 \\\\\n",
       "0 & 1 & 0 & 0 & 1 & 2 & -3 & 3 \\\\\n",
       "0 & 0 & 1 & 0 & 1 & 2 & 6 & 5 \\\\\n",
       "0 & 0 & 0 & 1 & 2 & 1 & -5 & 8\n",
       "\\end{array}\\right)$$"
      ],
      "text/plain": [
       "[ a  b  c  d  x  y  z  f]\n",
       "[ 0  0  0  0 -1 -1 -1  0]\n",
       "[ 1  0  0  0  1 -1 -2  5]\n",
       "[ 0  1  0  0  1  2 -3  3]\n",
       "[ 0  0  1  0  1  2  6  5]\n",
       "[ 0  0  0  1  2  1 -5  8]"
      ]
     },
     "metadata": {},
     "output_type": "display_data"
    }
   ],
   "source": [
    "var('a','b','c','d','x','y','z','f')\n",
    "\n",
    "M = matrix(\n",
    "[\n",
    "[a,b,c,d,x,y,z,f],\n",
    "[0,0,0,0,-1,-1,-1,0],\n",
    "[1,0,0,0,1,-1,-2,5],\n",
    "[0,1,0,0,1,2,-3,3],\n",
    "[0,0,1,0,1,2,6,5],\n",
    "[0,0,0,1,2,1,-5,8],\n",
    "]\n",
    ")\n",
    "\n",
    "show(M)"
   ]
  },
  {
   "cell_type": "markdown",
   "metadata": {},
   "source": [
    "Function call:"
   ]
  },
  {
   "cell_type": "code",
   "execution_count": 6,
   "metadata": {},
   "outputs": [
    {
     "data": {
      "text/plain": [
       "['a = 16/9',\n",
       " 'b = 0',\n",
       " 'c = 0',\n",
       " 'd = 16/9',\n",
       " 'x = 11/3',\n",
       " 'y = 0',\n",
       " 'z = 2/9',\n",
       " 'Max value of function is equal to:  35/9']"
      ]
     },
     "execution_count": 6,
     "metadata": {},
     "output_type": "execute_result"
    }
   ],
   "source": [
    "simplex(M, 'max')"
   ]
  }
 ],
 "metadata": {
  "kernelspec": {
   "display_name": "SageMath 9.3",
   "language": "sage",
   "name": "sagemath"
  },
  "language_info": {
   "codemirror_mode": {
    "name": "ipython",
    "version": 3
   },
   "file_extension": ".py",
   "mimetype": "text/x-python",
   "name": "python",
   "nbconvert_exporter": "python",
   "pygments_lexer": "ipython3",
   "version": "3.7.10"
  }
 },
 "nbformat": 4,
 "nbformat_minor": 4
}
